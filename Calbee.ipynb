{
 "metadata": {
  "name": "",
  "signature": "sha256:16ed0572d7424351efdaacce5e0ff72f16ce408069c4bd2d99e06e7db1c76b69"
 },
 "nbformat": 3,
 "nbformat_minor": 0,
 "worksheets": [
  {
   "cells": [
    {
     "cell_type": "code",
     "collapsed": false,
     "input": [
      "run logistic.py"
     ],
     "language": "python",
     "metadata": {},
     "outputs": [],
     "prompt_number": 150
    },
    {
     "cell_type": "markdown",
     "metadata": {},
     "source": [
      "##FIT"
     ]
    },
    {
     "cell_type": "code",
     "collapsed": false,
     "input": [
      "frame.columns= [\"index\",\"ok\",\"ra\",\"age\",\"education\",\"employees\",\"companies\",\"age_zscore\",\"education_zscore\",\"companies_zscore\",\"edu1\",\"edu2\",\"edu3\",\"edu4\",\"edu5\",\"edu6\",\"edu7\"]\n",
      "#classifier = logistic.logistic_fit(frame.ok, frame[[\"age_zscore\",\"companies_zscore\",\"edu1\",\"edu2\",\"edu3\",\"edu4\",\"edu5\",\"edu6\",\"edu7\"]])\n",
      "classifier = logistic.logistic_fit(frame.ok, frame[[\"age_zscore\",\"education_zscore\",\"companies_zscore\"]])"
     ],
     "language": "python",
     "metadata": {},
     "outputs": [
      {
       "output_type": "stream",
       "stream": "stdout",
       "text": [
        "Index(['age_zscore', 'education_zscore', 'companies_zscore'], dtype='object')\n",
        "[[-0.57756771 -0.51403585  1.03135   ]]\n",
        "[-0.99549357]\n",
        "0.696581196581\n"
       ]
      }
     ],
     "prompt_number": 151
    },
    {
     "cell_type": "markdown",
     "metadata": {},
     "source": [
      "##PREDICT"
     ]
    },
    {
     "cell_type": "code",
     "collapsed": false,
     "input": [
      "#predict\n",
      "predict = logistic.input_predict()\n",
      "#probas_,list_ = logistic.logistic_predict(classifier, predict[[\"age_zscore\",\"companies_zscore\",\"edu1\",\"edu2\",\"edu3\",\"edu4\",\"edu5\",\"edu6\",\"edu7\"]])\n",
      "probas_,list_ = logistic.logistic_predict(classifier, predict[[\"age_zscore\",\"education_zscore\",\"companies_zscore\"]])"
     ],
     "language": "python",
     "metadata": {},
     "outputs": [],
     "prompt_number": 152
    },
    {
     "cell_type": "code",
     "collapsed": false,
     "input": [
      "print(probas_[0:5])\n",
      "print(list_)\n",
      "pandas.crosstab(predict.ok, list_)"
     ],
     "language": "python",
     "metadata": {},
     "outputs": [
      {
       "output_type": "stream",
       "stream": "stdout",
       "text": [
        "[[ 0.53956157  0.46043843]\n",
        " [ 0.64490908  0.35509092]\n",
        " [ 0.75389188  0.24610812]\n",
        " [ 0.48637847  0.51362153]\n",
        " [ 0.56599443  0.43400557]]\n",
        "[ 0.  0.  0.  1.  0.  0.  0.  0.  0.  1.  0.  0.  0.  1.  1.  0.  0.  0.\n",
        "  0.  0.  0.  0.  1.  1.  0.  0.  0.  0.  0.  1.  0.  0.  0.  0.  0.  0.\n",
        "  0.  0.  0.  0.]\n"
       ]
      },
      {
       "html": [
        "<div style=\"max-height:1000px;max-width:1500px;overflow:auto;\">\n",
        "<table border=\"1\" class=\"dataframe\">\n",
        "  <thead>\n",
        "    <tr style=\"text-align: right;\">\n",
        "      <th>col_0</th>\n",
        "      <th>0.0</th>\n",
        "      <th>1.0</th>\n",
        "    </tr>\n",
        "    <tr>\n",
        "      <th>ok</th>\n",
        "      <th></th>\n",
        "      <th></th>\n",
        "    </tr>\n",
        "  </thead>\n",
        "  <tbody>\n",
        "    <tr>\n",
        "      <th>0</th>\n",
        "      <td> 26</td>\n",
        "      <td> 6</td>\n",
        "    </tr>\n",
        "    <tr>\n",
        "      <th>1</th>\n",
        "      <td>  7</td>\n",
        "      <td> 1</td>\n",
        "    </tr>\n",
        "  </tbody>\n",
        "</table>\n",
        "</div>"
       ],
       "metadata": {},
       "output_type": "pyout",
       "prompt_number": 153,
       "text": [
        "col_0   0  1\n",
        "ok          \n",
        "0      26  6\n",
        "1       7  1"
       ]
      }
     ],
     "prompt_number": 153
    },
    {
     "cell_type": "code",
     "collapsed": false,
     "input": [
      "list2_ = [1. if x >= 0.4 else 0. for x in probas_[:,1]]\n",
      "list2_ = np.asarray(list2_)\n",
      "pandas.crosstab(predict.ok, list2_)"
     ],
     "language": "python",
     "metadata": {},
     "outputs": [
      {
       "html": [
        "<div style=\"max-height:1000px;max-width:1500px;overflow:auto;\">\n",
        "<table border=\"1\" class=\"dataframe\">\n",
        "  <thead>\n",
        "    <tr style=\"text-align: right;\">\n",
        "      <th>col_0</th>\n",
        "      <th>0.0</th>\n",
        "      <th>1.0</th>\n",
        "    </tr>\n",
        "    <tr>\n",
        "      <th>ok</th>\n",
        "      <th></th>\n",
        "      <th></th>\n",
        "    </tr>\n",
        "  </thead>\n",
        "  <tbody>\n",
        "    <tr>\n",
        "      <th>0</th>\n",
        "      <td> 23</td>\n",
        "      <td> 9</td>\n",
        "    </tr>\n",
        "    <tr>\n",
        "      <th>1</th>\n",
        "      <td>  4</td>\n",
        "      <td> 4</td>\n",
        "    </tr>\n",
        "  </tbody>\n",
        "</table>\n",
        "</div>"
       ],
       "metadata": {},
       "output_type": "pyout",
       "prompt_number": 159,
       "text": [
        "col_0   0  1\n",
        "ok          \n",
        "0      23  9\n",
        "1       4  4"
       ]
      }
     ],
     "prompt_number": 159
    },
    {
     "cell_type": "code",
     "collapsed": false,
     "input": [
      "logistic.hist_show(frame, \"education\")"
     ],
     "language": "python",
     "metadata": {},
     "outputs": [
      {
       "metadata": {},
       "output_type": "display_data",
       "png": "[encoded data removed]",
       "text": [
        "<matplotlib.figure.Figure at 0x10b266278>"
       ]
      }
     ],
     "prompt_number": 132
    }
   ],
   "metadata": {}
  }
 ]
}