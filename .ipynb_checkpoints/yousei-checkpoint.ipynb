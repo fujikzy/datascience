{
 "metadata": {
  "name": "",
  "signature": "sha256:27c5301ec2e17992eb06af557e1bcb0543a0e23bdd1c44e0813c7caad0d04e52"
 },
 "nbformat": 3,
 "nbformat_minor": 0,
 "worksheets": [
  {
   "cells": [
    {
     "cell_type": "code",
     "collapsed": false,
     "input": [
      "from sklearn import datasets\n",
      "from sklearn import svm\n",
      "from sklearn.decomposition import PCA\n",
      "import numpy as np\n",
      "import matplotlib.pyplot as plt"
     ],
     "language": "python",
     "metadata": {},
     "outputs": [],
     "prompt_number": 33
    },
    {
     "cell_type": "code",
     "collapsed": false,
     "input": [
      "* [RandomForest\u306e\u30b0\u30ea\u30c3\u30c9\u30b5\u30fc\u30c1](http://blog.tatsushim.com/?p=63)\n",
      "* [\u6700\u9069\u306a\u30b0\u30ea\u30c3\u30c9\u30b5\u30fc\u30c1](http://sssslide.com/speakerdeck.com/anaguma2261/scikit-learndexue-buji-jie-xue-xi-ru-men)\n",
      "* [SVM\u5b9f\u8df5\u30ac\u30a4\u30c9](http://www.slideshare.net/sleepy_yoshi/svm-13435949)"
     ],
     "language": "python",
     "metadata": {},
     "outputs": []
    },
    {
     "cell_type": "code",
     "collapsed": false,
     "input": [
      "#\u6563\u5e03\u56f3\u884c\u5217\n",
      "#sns.pairplot(data, hue=\"species\", size=2.5)\n",
      "\n",
      "#\u6b63\u898f\u8868\u73fe\n",
      "#jobseeker[\"schoolr\"] = jobseeker.school.str.match(\"(\u79c1\u7acb|\u56fd\u7acb|\u5b66\u6821\u6cd5\u4eba)?[ |\u3000]?(?!.*\u5927\u5b66\u4ed8\u5c5e)(.*?\u5927\u5b66)\").str.get(1)\n",
      "\n",
      "#\u7d50\u5408\n",
      "#jobseeker = pandas.merge(jobseeker, college_level, how=\"left\", left_on=\"schoolr\", right_on=\"name\")\n",
      "\n",
      "#\u6570\u5024\u5909\u63db\n",
      "#jobseeker[\"nen\"] = 2015 - (jobseeker.birth.str[0:4]).convert_objects(convert_numeric=True)\n",
      "\n",
      "#str\u5909\u63db\n",
      "#rec.js1 = [str(js) for js in rec.js1] #\u6c42\u8077\u8005\u89aaNo\u304cint\u3068str\u6df7\u5728\u306e\u305f\u3081\n",
      "\n",
      "from IPython.display import Image\n",
      "Image(url='http://graphics8.nytimes.com/images/section/learning/general/onthisday/big/0415_big.gif')\n",
      "\n",
      "https://pydata.tokyo/ipynb/tutorial-1/ml.html"
     ],
     "language": "python",
     "metadata": {},
     "outputs": []
    },
    {
     "cell_type": "markdown",
     "metadata": {},
     "source": [
      "# \u6b63\u898f\u5316\n",
      "\n",
      "###\u30b9\u30c8\u30c3\u30d7\u30ef\u30fc\u30c9\n",
      "\u983b\u7e41\u306b\u4f7f\u308f\u308c\u308b\u5358\u8a9e\u306a\u3069\u5206\u985e\u306b\u8ca2\u732e\u3057\u305f\u3044\u5358\u8a9e\n",
      "###\u30b9\u30c6\u30df\u30f3\u30b0\n",
      "\u610f\u5473\u7684\u306b\u540c\u3058\u3067\u3042\u308b\u5358\u8a9e\u3092\u7279\u5b9a\u306e\u8a9e\u5e79\u3078\u5909\u63db\n",
      "\n",
      "[python\u3067\u306e\u81ea\u7136\u8a00\u8a9e\u51e6\u7406](https://github.com/pika-shi/sphinx_information_retrieval/blob/master/natural_language_processing.rst)\n",
      "\n",
      "#\u30d9\u30af\u30c8\u30eb\u5316\n",
      "###bag-of-word\n",
      "\u5358\u8a9e\u306e\u51fa\u73fe\u56de\u6570\u3092\u7279\u5fb4\u91cf\u306e\u91cd\u307f\u3068\u3059\u308b\u65b9\u6cd5\n",
      "###TF-IDF(Term Frequency - inverse document frequency)\n",
      "\u7279\u5b9a\u306e\u6587\u66f8\u3067\u51fa\u73fe\u3059\u308b\u5358\u8a9e\u306e\u91cd\u307f\u3092\u5927\u304d\u304f\u3057\u3001\u3042\u3089\u3086\u308b\u6587\u66f8\u3067\u51fa\u73fe\u3059\u308b\u5358\u8a9e\u306e\u91cd\u307f\u3092\u5c0f\u3055\u304f\u3059\u308b\u624b\u6cd5"
     ]
    },
    {
     "cell_type": "code",
     "collapsed": false,
     "input": [
      "from sklearn.feature_extraction.text import CountVectorizer\n",
      "\n",
      "#\u30b3\u30f3\u30c6\u30f3\u30c4\n",
      "content = [\"This is a toy post about machine learning. Actually, it contains not mush intersting stuff.\", \n",
      "                    \"Imaging databases can get huge.\",\n",
      "                    \"Most imaging databases safe images permanently.\",\n",
      "                    \"Imaging databases store images.\",\n",
      "                    \"Imaging databases store images. Imaging databases store images. Imaging databases store images.\",]\n",
      "\n",
      "#\u30c8\u30fc\u30af\u30f3\u5316\n",
      "vectorize = CountVectorizer(min_df = 1, stop_words = [\"stop_A\",\"stop_B\"])\n",
      "x = vectorize.fit_transform(content) # bag-of-word\n",
      "num_sample, num_feature = x.shape\n",
      "\n",
      "print(num_sample,num_feature)\n",
      "print(vectorize.get_feature_names())"
     ],
     "language": "python",
     "metadata": {},
     "outputs": [
      {
       "output_type": "stream",
       "stream": "stdout",
       "text": [
        "5 24\n",
        "['about', 'actually', 'can', 'contains', 'databases', 'get', 'huge', 'images', 'imaging', 'intersting', 'is', 'it', 'learning', 'machine', 'most', 'mush', 'not', 'permanently', 'post', 'safe', 'store', 'stuff', 'this', 'toy']\n"
       ]
      }
     ],
     "prompt_number": 2
    },
    {
     "cell_type": "markdown",
     "metadata": {},
     "source": [
      "# \u30c8\u30d4\u30c3\u30af\u30e2\u30c7\u30eb\n",
      "###\u6f5c\u5728\u7684\u30c7\u30a3\u30ec\u30af\u30c8\u30ea\u914d\u5206\u6cd5(LDA)\n",
      "* [word cloud](http://qiita.com/kenmatsu4/items/9b6ac74f831443d29074)\n",
      "#\u6b21\u5143\u5727\u7e2e\n",
      "###\u4e3b\u6210\u5206\u5206\u6790(PCA)\n",
      "* [PCA\u3068kmeans](http://kensuke-mi.xyz/kensuke-mi_diary/2014/08/pcakmeans.html)"
     ]
    },
    {
     "cell_type": "code",
     "collapsed": false,
     "input": [
      "iris = datasets.load_iris()"
     ],
     "language": "python",
     "metadata": {},
     "outputs": [],
     "prompt_number": 34
    },
    {
     "cell_type": "code",
     "collapsed": false,
     "input": [
      "pca = PCA(n_components=2)\n",
      "data = pca.fit(iris.data).transform(iris.data)"
     ],
     "language": "python",
     "metadata": {},
     "outputs": [],
     "prompt_number": 39
    },
    {
     "cell_type": "code",
     "collapsed": false,
     "input": [
      "datamax = data.max(axis=0)  + 1\n",
      "datamin = data.min(axis=0) - 1\n",
      "n = 200\n",
      "X, Y = np.meshgrid(np.linspace(datamin[0], datamax[0], n),\n",
      "                                  np.linspace(datamin[1], datamax[1], n))"
     ],
     "language": "python",
     "metadata": {},
     "outputs": [],
     "prompt_number": 47
    },
    {
     "cell_type": "code",
     "collapsed": false,
     "input": [
      "svc = svm.SVC()\n",
      "svc.fit(data, iris.target)\n",
      "Z = svc.predict(np.c_[X.ravel(), Y.ravel()])"
     ],
     "language": "python",
     "metadata": {},
     "outputs": [],
     "prompt_number": 53
    },
    {
     "cell_type": "code",
     "collapsed": false,
     "input": [
      "plt.contour(X,Y, Z.reshape(X.shape), colors=\"k\")\n",
      "for c,s in zip([0,1,2], [\"o\",\"+\",\"x\"]):\n",
      "    d = data[iris.target == c]\n",
      "    plt.scatter(d[:, 0], d[:, 1], c=\"k\", marker = s)\n",
      "plt.show()"
     ],
     "language": "python",
     "metadata": {},
     "outputs": [
      {
       "metadata": {},
       "output_type": "display_data",
       "png": "[encoded data removed]",
       "text": [
        "<matplotlib.figure.Figure at 0x108619860>"
       ]
      }
     ],
     "prompt_number": 58
    },
    {
     "cell_type": "code",
     "collapsed": false,
     "input": [
      "print(target_test\n",
      "      [0])"
     ],
     "language": "python",
     "metadata": {},
     "outputs": [
      {
       "output_type": "stream",
       "stream": "stdout",
       "text": [
        "233.0\n"
       ]
      }
     ],
     "prompt_number": 31
    },
    {
     "cell_type": "code",
     "collapsed": false,
     "input": [],
     "language": "python",
     "metadata": {},
     "outputs": []
    }
   ],
   "metadata": {}
  }
 ]
}