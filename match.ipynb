{
 "metadata": {
  "name": "",
  "signature": "sha256:341823a619422ab5fc947fc4caeb7386d44a33a15619ae2952fa65d113fc37b4"
 },
 "nbformat": 3,
 "nbformat_minor": 0,
 "worksheets": [
  {
   "cells": [
    {
     "cell_type": "code",
     "collapsed": false,
     "input": [
      "%run match.py\n",
      "model = Model()\n",
      "\n",
      "data = model.input_train()\n",
      "print(\"\u30af\u30ec\u30f3\u30b8\u30f3\u30b0\u524d\",len(data))\n",
      "data = model.cleansing(data)\n",
      "print(\"\u30af\u30ec\u30f3\u30b8\u30f3\u30b0\u5f8c\", len(data))\n",
      "data.head(3)"
     ],
     "language": "python",
     "metadata": {},
     "outputs": [
      {
       "output_type": "stream",
       "stream": "stdout",
       "text": [
        "\u30af\u30ec\u30f3\u30b8\u30f3\u30b0\u524d 65\n",
        "\u30af\u30ec\u30f3\u30b8\u30f3\u30b0\u5f8c 59\n"
       ]
      },
      {
       "html": [
        "<div style=\"max-height:1000px;max-width:1500px;overflow:auto;\">\n",
        "<table border=\"1\" class=\"dataframe\">\n",
        "  <thead>\n",
        "    <tr style=\"text-align: right;\">\n",
        "      <th></th>\n",
        "      <th>index</th>\n",
        "      <th>ok</th>\n",
        "      <th>ra</th>\n",
        "      <th>age</th>\n",
        "      <th>education</th>\n",
        "      <th>jobhop</th>\n",
        "      <th>income</th>\n",
        "      <th>employees</th>\n",
        "      <th>joblen</th>\n",
        "      <th>jtype</th>\n",
        "      <th>btype</th>\n",
        "    </tr>\n",
        "  </thead>\n",
        "  <tbody>\n",
        "    <tr>\n",
        "      <th>0</th>\n",
        "      <td> 1</td>\n",
        "      <td> 1</td>\n",
        "      <td> 1</td>\n",
        "      <td> 28</td>\n",
        "      <td> 3</td>\n",
        "      <td> 1</td>\n",
        "      <td> 450</td>\n",
        "      <td> 8000</td>\n",
        "      <td> 3</td>\n",
        "      <td>                        1502000000:\u88fd\u54c1\u958b\u767a\u30fb\u88fd\u54c1\u8a2d\u8a08\u6a5f\u68b0</td>\n",
        "      <td>              1311:\u81ea\u52d5\u8eca\u90e8\u54c1\u30e1\u30fc\u30ab\u30fc</td>\n",
        "    </tr>\n",
        "    <tr>\n",
        "      <th>1</th>\n",
        "      <td> 2</td>\n",
        "      <td> 0</td>\n",
        "      <td> 1</td>\n",
        "      <td> 29</td>\n",
        "      <td> 4</td>\n",
        "      <td> 1</td>\n",
        "      <td> 350</td>\n",
        "      <td> 8500</td>\n",
        "      <td> 6</td>\n",
        "      <td>                        1502000000:\u88fd\u54c1\u958b\u767a\u30fb\u88fd\u54c1\u8a2d\u8a08\u6a5f\u68b0</td>\n",
        "      <td>      2305:\u88fd\u9020\u696d\u7cfb\u8a2d\u8a08\u30fb\u4fdd\u5b88\u30a2\u30a6\u30c8\u30bd\u30fc\u30b7\u30f3\u30b0</td>\n",
        "    </tr>\n",
        "    <tr>\n",
        "      <th>2</th>\n",
        "      <td> 3</td>\n",
        "      <td> 1</td>\n",
        "      <td> 1</td>\n",
        "      <td> 30</td>\n",
        "      <td> 2</td>\n",
        "      <td> 1</td>\n",
        "      <td> 495</td>\n",
        "      <td>  120</td>\n",
        "      <td> 7</td>\n",
        "      <td> 1502000000:\u88fd\u54c1\u958b\u767a\u30fb\u88fd\u54c1\u8a2d\u8a08\u6a5f\u68b0,1504000000:\u89e3\u6790(CAE\u306a\u3069)\u6a5f\u68b0</td>\n",
        "      <td> 1310:\u5b8c\u6210\u8eca\u30e1\u30fc\u30ab\u30fc,1311:\u81ea\u52d5\u8eca\u90e8\u54c1\u30e1\u30fc\u30ab\u30fc</td>\n",
        "    </tr>\n",
        "  </tbody>\n",
        "</table>\n",
        "</div>"
       ],
       "metadata": {},
       "output_type": "pyout",
       "prompt_number": 380,
       "text": [
        "   index  ok  ra  age  education  jobhop  income  employees  joblen  \\\n",
        "0      1   1   1   28          3       1     450       8000       3   \n",
        "1      2   0   1   29          4       1     350       8500       6   \n",
        "2      3   1   1   30          2       1     495        120       7   \n",
        "\n",
        "                                           jtype                        btype  \n",
        "0                         1502000000:\u88fd\u54c1\u958b\u767a\u30fb\u88fd\u54c1\u8a2d\u8a08\u6a5f\u68b0               1311:\u81ea\u52d5\u8eca\u90e8\u54c1\u30e1\u30fc\u30ab\u30fc  \n",
        "1                         1502000000:\u88fd\u54c1\u958b\u767a\u30fb\u88fd\u54c1\u8a2d\u8a08\u6a5f\u68b0       2305:\u88fd\u9020\u696d\u7cfb\u8a2d\u8a08\u30fb\u4fdd\u5b88\u30a2\u30a6\u30c8\u30bd\u30fc\u30b7\u30f3\u30b0  \n",
        "2  1502000000:\u88fd\u54c1\u958b\u767a\u30fb\u88fd\u54c1\u8a2d\u8a08\u6a5f\u68b0,1504000000:\u89e3\u6790(CAE\u306a\u3069)\u6a5f\u68b0  1310:\u5b8c\u6210\u8eca\u30e1\u30fc\u30ab\u30fc,1311:\u81ea\u52d5\u8eca\u90e8\u54c1\u30e1\u30fc\u30ab\u30fc  "
       ]
      }
     ],
     "prompt_number": 380
    },
    {
     "cell_type": "markdown",
     "metadata": {},
     "source": [
      "##\u5909\u6570\n",
      "| \u7269\u7406\u540d | \u8ad6\u7406\u540d | \u5909\u63db | \u6a19\u6e96\u5316 |\n",
      "|:--:|:--:|:--:|:--:|\n",
      "| age          | \u5e74\u9f62     | ROW        | Z\u5024 |\n",
      "| jobhop       | \u7d4c\u9a13\u793e\u6570 | ROW        | Z\u5024 |\n",
      "| joblen       | \u5c31\u696d\u671f\u9593 | ROW        | Z\u5024 |\n",
      "| education    | \u5b66\u6b74     | \u30b0\u30eb\u30fc\u30d7\u5316 | Z\u5024 |\n",
      "| employees    | \u5f93\u696d\u54e1\u6570 | \u30b0\u30eb\u30fc\u30d7\u5316 | Z\u5024 |\n",
      "| income       | \u5e74\u53ce     | \u30b0\u30eb\u30fc\u30d7\u5316 | Z\u5024 |\n",
      "| jtype        | \u8077\u7a2e     | ROW        | 0/1 |\n",
      "| btype        | \u696d\u7a2e     | ROW        | 0/1 |"
     ]
    },
    {
     "cell_type": "markdown",
     "metadata": {},
     "source": [
      "##\u30d3\u30cb\u30f3\u30b0\n",
      "| \u5f93\u696d\u54e1\u6570 | \u30ab\u30c6\u30b4\u30ea | | \u5e74\u53ce | \u30ab\u30c6\u30b4\u30ea |\n",
      "|:--:|:--:|:--:|:--:|:--:|\n",
      "| ~100\u4eba       | 1 || ~300\u4e07      | 1 |\n",
      "| 100\u4eba~500\u4eba  | 2 || 300\u4e07~400\u4e07 | 2 |\n",
      "| 500\u4eba~1000\u4eba | 3 || 400\u4e07~500\u4e07 | 3 |\n",
      "| 1000\u4eba~      | 4 || 500\u4e07~600\u4e07 | 4 |\n",
      "|              |   || 600\u4e07~700\u4e07 | 5 |\n",
      "|              |   || 700\u4e07~      | 6 |"
     ]
    },
    {
     "cell_type": "code",
     "collapsed": false,
     "input": [
      "#\u5f93\u696d\u54e1\u6570\u30d3\u30ea\u30f3\u30b0\n",
      "bins = [0, 100, 500, 1000, 1000000]\n",
      "bin_names = [1, 2, 3, 4]\n",
      "data[\"emp_c\"] = pandas.cut(data.employees, bins, labels=bin_names)\n",
      "#\u5e74\u53ce\u30d3\u30ea\u30f3\u30b0\n",
      "bins = [0,300,400,500,600,700,10000]\n",
      "bin_names = [1, 2, 3, 4, 5, 6]\n",
      "data[\"inc_c\"] = pandas.cut(data.income, bins, labels=bin_names)"
     ],
     "language": "python",
     "metadata": {},
     "outputs": [],
     "prompt_number": 381
    },
    {
     "cell_type": "markdown",
     "metadata": {},
     "source": [
      "##\u6a19\u6e96\u5316"
     ]
    },
    {
     "cell_type": "code",
     "collapsed": false,
     "input": [
      "#Z\u5316\n",
      "train = data[data.ok == 1] ##\u2190\u30c8\u30ec\u30a4\u30f3\u30c7\u30fc\u30bf\u3060\u3051\u306b\u3059\u308b\uff01\uff01\uff01\uff01\uff01\uff01\uff01\uff01\uff01\uff01\uff01\uff01\uff01\uff01\uff01\uff01\uff01\uff01\uff01\uff01\uff01\uff01\n",
      "for col in [\"age\", \"education\", \"jobhop\", \"inc_c\", \"emp_c\", \"joblen\"]:\n",
      "    ave = train[col].mean()\n",
      "    std  = train[col].std()\n",
      "    data[col + \"_z\"] = (data[col] - ave) / std\n",
      "    \n",
      "#0/1\u5316\n",
      "jtype = []\n",
      "btype = []\n",
      "\n",
      "for job in data.jtype:\n",
      "    li = [job[0:2] for job in job.split(\",\")]\n",
      "    jtype.append(1 if \"15\" in li else 0)\n",
      "for bus in data.btype:\n",
      "    li = [bus[0:2] for bus in bus.split(\",\")]\n",
      "    btype.append(1 if \"13\" in li else 0)\n",
      "    \n",
      "data[\"jcate\"] = jtype\n",
      "data[\"bcate\"] = btype\n",
      "\n",
      "data.head(3)"
     ],
     "language": "python",
     "metadata": {},
     "outputs": [
      {
       "html": [
        "<div style=\"max-height:1000px;max-width:1500px;overflow:auto;\">\n",
        "<table border=\"1\" class=\"dataframe\">\n",
        "  <thead>\n",
        "    <tr style=\"text-align: right;\">\n",
        "      <th></th>\n",
        "      <th>index</th>\n",
        "      <th>ok</th>\n",
        "      <th>ra</th>\n",
        "      <th>age</th>\n",
        "      <th>education</th>\n",
        "      <th>jobhop</th>\n",
        "      <th>income</th>\n",
        "      <th>employees</th>\n",
        "      <th>joblen</th>\n",
        "      <th>jtype</th>\n",
        "      <th>...</th>\n",
        "      <th>emp_c</th>\n",
        "      <th>inc_c</th>\n",
        "      <th>age_z</th>\n",
        "      <th>education_z</th>\n",
        "      <th>jobhop_z</th>\n",
        "      <th>inc_c_z</th>\n",
        "      <th>emp_c_z</th>\n",
        "      <th>joblen_z</th>\n",
        "      <th>jcate</th>\n",
        "      <th>bcate</th>\n",
        "    </tr>\n",
        "  </thead>\n",
        "  <tbody>\n",
        "    <tr>\n",
        "      <th>0</th>\n",
        "      <td> 1</td>\n",
        "      <td> 1</td>\n",
        "      <td> 1</td>\n",
        "      <td> 28</td>\n",
        "      <td> 3</td>\n",
        "      <td> 1</td>\n",
        "      <td> 450</td>\n",
        "      <td> 8000</td>\n",
        "      <td> 3</td>\n",
        "      <td>                        1502000000:\u88fd\u54c1\u958b\u767a\u30fb\u88fd\u54c1\u8a2d\u8a08\u6a5f\u68b0</td>\n",
        "      <td>...</td>\n",
        "      <td> 4</td>\n",
        "      <td> 3</td>\n",
        "      <td>-0.292067</td>\n",
        "      <td>-1.310356</td>\n",
        "      <td>-0.668939</td>\n",
        "      <td> 0.943564</td>\n",
        "      <td> 0.844819</td>\n",
        "      <td>-0.268802</td>\n",
        "      <td> 1</td>\n",
        "      <td> 1</td>\n",
        "    </tr>\n",
        "    <tr>\n",
        "      <th>1</th>\n",
        "      <td> 2</td>\n",
        "      <td> 0</td>\n",
        "      <td> 1</td>\n",
        "      <td> 29</td>\n",
        "      <td> 4</td>\n",
        "      <td> 1</td>\n",
        "      <td> 350</td>\n",
        "      <td> 8500</td>\n",
        "      <td> 6</td>\n",
        "      <td>                        1502000000:\u88fd\u54c1\u958b\u767a\u30fb\u88fd\u54c1\u8a2d\u8a08\u6a5f\u68b0</td>\n",
        "      <td>...</td>\n",
        "      <td> 4</td>\n",
        "      <td> 2</td>\n",
        "      <td> 0.011683</td>\n",
        "      <td>-0.742535</td>\n",
        "      <td>-0.668939</td>\n",
        "      <td>-0.283069</td>\n",
        "      <td> 0.844819</td>\n",
        "      <td> 1.344008</td>\n",
        "      <td> 1</td>\n",
        "      <td> 0</td>\n",
        "    </tr>\n",
        "    <tr>\n",
        "      <th>2</th>\n",
        "      <td> 3</td>\n",
        "      <td> 1</td>\n",
        "      <td> 1</td>\n",
        "      <td> 30</td>\n",
        "      <td> 2</td>\n",
        "      <td> 1</td>\n",
        "      <td> 495</td>\n",
        "      <td>  120</td>\n",
        "      <td> 7</td>\n",
        "      <td> 1502000000:\u88fd\u54c1\u958b\u767a\u30fb\u88fd\u54c1\u8a2d\u8a08\u6a5f\u68b0,1504000000:\u89e3\u6790(CAE\u306a\u3069)\u6a5f\u68b0</td>\n",
        "      <td>...</td>\n",
        "      <td> 2</td>\n",
        "      <td> 3</td>\n",
        "      <td> 0.315433</td>\n",
        "      <td>-1.878177</td>\n",
        "      <td>-0.668939</td>\n",
        "      <td> 0.943564</td>\n",
        "      <td>-0.985622</td>\n",
        "      <td> 1.881612</td>\n",
        "      <td> 1</td>\n",
        "      <td> 1</td>\n",
        "    </tr>\n",
        "  </tbody>\n",
        "</table>\n",
        "<p>3 rows \u00d7 21 columns</p>\n",
        "</div>"
       ],
       "metadata": {},
       "output_type": "pyout",
       "prompt_number": 382,
       "text": [
        "   index  ok  ra  age  education  jobhop  income  employees  joblen  \\\n",
        "0      1   1   1   28          3       1     450       8000       3   \n",
        "1      2   0   1   29          4       1     350       8500       6   \n",
        "2      3   1   1   30          2       1     495        120       7   \n",
        "\n",
        "                                           jtype  \\\n",
        "0                         1502000000:\u88fd\u54c1\u958b\u767a\u30fb\u88fd\u54c1\u8a2d\u8a08\u6a5f\u68b0   \n",
        "1                         1502000000:\u88fd\u54c1\u958b\u767a\u30fb\u88fd\u54c1\u8a2d\u8a08\u6a5f\u68b0   \n",
        "2  1502000000:\u88fd\u54c1\u958b\u767a\u30fb\u88fd\u54c1\u8a2d\u8a08\u6a5f\u68b0,1504000000:\u89e3\u6790(CAE\u306a\u3069)\u6a5f\u68b0   \n",
        "\n",
        "                       ...                       emp_c  inc_c     age_z  \\\n",
        "0                      ...                           4      3 -0.292067   \n",
        "1                      ...                           4      2  0.011683   \n",
        "2                      ...                           2      3  0.315433   \n",
        "\n",
        "   education_z  jobhop_z   inc_c_z   emp_c_z  joblen_z  jcate  bcate  \n",
        "0    -1.310356 -0.668939  0.943564  0.844819 -0.268802      1      1  \n",
        "1    -0.742535 -0.668939 -0.283069  0.844819  1.344008      1      0  \n",
        "2    -1.878177 -0.668939  0.943564 -0.985622  1.881612      1      1  \n",
        "\n",
        "[3 rows x 21 columns]"
       ]
      }
     ],
     "prompt_number": 382
    },
    {
     "cell_type": "markdown",
     "metadata": {},
     "source": [
      "##\u30d2\u30b9\u30c8\u30b0\u30e9\u30e0"
     ]
    },
    {
     "cell_type": "code",
     "collapsed": false,
     "input": [
      "for col in [\"age\", \"education\", \"jobhop\", \"inc_c\", \"emp_c\", \"joblen\"]:\n",
      "    model.hist_show(data, col)"
     ],
     "language": "python",
     "metadata": {},
     "outputs": [
      {
       "metadata": {},
       "output_type": "display_data",
       "png": "[encoded data removed]",
       "text": [
        "<matplotlib.figure.Figure at 0x10dd79160>"
       ]
      },
      {
       "metadata": {},
       "output_type": "display_data",
       "png": "[encoded data removed]",
       "text": [
        "<matplotlib.figure.Figure at 0x10eca5630>"
       ]
      },
      {
       "metadata": {},
       "output_type": "display_data",
       "png": "[encoded data removed]",
       "text": [
        "<matplotlib.figure.Figure at 0x10d631a90>"
       ]
      },
      {
       "metadata": {},
       "output_type": "display_data",
       "png": "[encoded data removed]",
       "text": [
        "<matplotlib.figure.Figure at 0x10d36b940>"
       ]
      },
      {
       "metadata": {},
       "output_type": "display_data",
       "png": "[encoded data removed]",
       "text": [
        "<matplotlib.figure.Figure at 0x10e208780>"
       ]
      },
      {
       "metadata": {},
       "output_type": "display_data",
       "png": "[encoded data removed]",
       "text": [
        "<matplotlib.figure.Figure at 0x10e1de208>"
       ]
      }
     ],
     "prompt_number": 322
    },
    {
     "cell_type": "markdown",
     "metadata": {},
     "source": [
      "##\u5909\u6570\u8a2d\u5b9a"
     ]
    },
    {
     "cell_type": "code",
     "collapsed": false,
     "input": [
      "train = data[data.ra == 1] ##\u2190\u5b66\u7fd2\u30c7\u30fc\u30bf\u3060\u3051\u306b\u3059\u308b\uff01\uff01\uff01\uff01\uff01\uff01\uff01\uff01\uff01\uff01\uff01\uff01\uff01\uff01\uff01\uff01\uff01\uff01\uff01\uff01\uff01\uff01\n",
      "test  = data[data.ra == 1] ##\u2190\u30c6\u30b9\u30c8\u30c7\u30fc\u30bf\u3060\u3051\u306b\u3059\u308b\uff01\uff01\uff01\uff01\uff01\uff01\uff01\uff01\uff01\uff01\uff01\uff01\uff01\uff01\uff01\uff01\uff01\uff01\uff01\uff01\uff01\uff01\n",
      "\n",
      "columns = [\"age_z\",\"education_z\", \"jobhop_z\", \"inc_c_z\", \"emp_c_z\", \"joblen_z\", \"jcate\", \"bcate\"]\n",
      "\n",
      "train_features, train_cls = train[columns], train.ok\n",
      "test_features, test_cls = test[columns], test.ok"
     ],
     "language": "python",
     "metadata": {},
     "outputs": [],
     "prompt_number": 383
    },
    {
     "cell_type": "markdown",
     "metadata": {},
     "source": [
      "##LogisticRegression"
     ]
    },
    {
     "cell_type": "code",
     "collapsed": false,
     "input": [
      "####FIT\n",
      "classifier = LogisticRegression()\n",
      "classifier.fit(train_features, train_cls)\n",
      "\n",
      "print(\"\u5909\u6570\", columns)\n",
      "print(\"coffient\", classifier.coef_)\n",
      "print(\"intercept\", classifier.intercept_)\n",
      "print(\"\u6c7a\u5b9a\u4fc2\u6570\", classifier.score(train_features, train_cls))\n",
      "\n",
      "####PREDICT\n",
      "probas_ = classifier.predict_proba(test_features)\n",
      "list_ = classifier.predict(test_features)\n",
      "#print(probas_[0:5])\n",
      "#print(list_)\n",
      "\n",
      "####\u8a55\u4fa1\n",
      "print(classification_report(test_cls, list_))\n",
      "pandas.crosstab(test_cls, list_)\n",
      "\n",
      "# 1. / (1. + np.exp(-prob))\n",
      "#list_ = [1. if x >= 0.4 else 0. for x in probas_[:,1]]\n",
      "#list_ = np.asarray(list_)"
     ],
     "language": "python",
     "metadata": {},
     "outputs": [
      {
       "output_type": "stream",
       "stream": "stdout",
       "text": [
        "\u5909\u6570 ['age_z', 'education_z', 'jobhop_z', 'inc_c_z', 'emp_c_z', 'joblen_z', 'jcate', 'bcate']\n",
        "coffient [[-0.0817445  -0.07340509 -0.06209776 -0.18913824  0.5341649  -0.35542569\n",
        "  -0.38080375  0.22090357]]\n",
        "intercept [ 0.31101417]\n",
        "\u6c7a\u5b9a\u4fc2\u6570 0.689655172414\n",
        "             precision    recall  f1-score   support\n",
        "\n",
        "        0.0       0.73      0.73      0.73        33\n",
        "        1.0       0.64      0.64      0.64        25\n",
        "\n",
        "avg / total       0.69      0.69      0.69        58\n",
        "\n"
       ]
      },
      {
       "html": [
        "<div style=\"max-height:1000px;max-width:1500px;overflow:auto;\">\n",
        "<table border=\"1\" class=\"dataframe\">\n",
        "  <thead>\n",
        "    <tr style=\"text-align: right;\">\n",
        "      <th>col_0</th>\n",
        "      <th>0.0</th>\n",
        "      <th>1.0</th>\n",
        "    </tr>\n",
        "    <tr>\n",
        "      <th>ok</th>\n",
        "      <th></th>\n",
        "      <th></th>\n",
        "    </tr>\n",
        "  </thead>\n",
        "  <tbody>\n",
        "    <tr>\n",
        "      <th>0</th>\n",
        "      <td> 24</td>\n",
        "      <td>  9</td>\n",
        "    </tr>\n",
        "    <tr>\n",
        "      <th>1</th>\n",
        "      <td>  9</td>\n",
        "      <td> 16</td>\n",
        "    </tr>\n",
        "  </tbody>\n",
        "</table>\n",
        "</div>"
       ],
       "metadata": {},
       "output_type": "pyout",
       "prompt_number": 385,
       "text": [
        "col_0   0   1\n",
        "ok           \n",
        "0      24   9\n",
        "1       9  16"
       ]
      }
     ],
     "prompt_number": 385
    },
    {
     "cell_type": "markdown",
     "metadata": {},
     "source": [
      "##RandomForest"
     ]
    },
    {
     "cell_type": "code",
     "collapsed": false,
     "input": [
      "from sklearn import preprocessing\n",
      "from sklearn import ensemble\n",
      "\n",
      "####FIT\n",
      "rf = ensemble.RandomForestClassifier()\n",
      "rf.fit(train_features, train_cls)\n",
      "\n",
      "print(\"\u5909\u6570\", columns)\n",
      "print(\"\u91cd\u8981\u5ea6\", rf.feature_importances_)\n",
      "print(\"\u6c7a\u5b9a\u4fc2\u6570\", rf.score(train_features, train_cls))\n",
      "\n",
      "####PREDICT\n",
      "probas_ = rf.predict_proba(test_features)\n",
      "list_ = rf.predict(test_features)\n",
      "#print(probas_[0:5])\n",
      "#print(list_)\n",
      "\n",
      "####\u8a55\u4fa1\n",
      "print(classification_report(test_cls, list_))\n",
      "pandas.crosstab(test_cls, list_)"
     ],
     "language": "python",
     "metadata": {},
     "outputs": [
      {
       "output_type": "stream",
       "stream": "stdout",
       "text": [
        "\u5909\u6570 ['age_z', 'education_z', 'jobhop_z', 'inc_c_z', 'emp_c_z', 'joblen_z', 'jcate', 'bcate']\n",
        "\u91cd\u8981\u5ea6 [ 0.23468859  0.12927544  0.07313995  0.09248285  0.09976869  0.33382087\n",
        "  0.00091492  0.03590868]\n",
        "\u6c7a\u5b9a\u4fc2\u6570 0.948275862069\n",
        "             precision    recall  f1-score   support\n",
        "\n",
        "        0.0       0.94      0.97      0.96        33\n",
        "        1.0       0.96      0.92      0.94        25\n",
        "\n",
        "avg / total       0.95      0.95      0.95        58\n",
        "\n"
       ]
      },
      {
       "html": [
        "<div style=\"max-height:1000px;max-width:1500px;overflow:auto;\">\n",
        "<table border=\"1\" class=\"dataframe\">\n",
        "  <thead>\n",
        "    <tr style=\"text-align: right;\">\n",
        "      <th>col_0</th>\n",
        "      <th>0.0</th>\n",
        "      <th>1.0</th>\n",
        "    </tr>\n",
        "    <tr>\n",
        "      <th>ok</th>\n",
        "      <th></th>\n",
        "      <th></th>\n",
        "    </tr>\n",
        "  </thead>\n",
        "  <tbody>\n",
        "    <tr>\n",
        "      <th>0</th>\n",
        "      <td> 32</td>\n",
        "      <td>  1</td>\n",
        "    </tr>\n",
        "    <tr>\n",
        "      <th>1</th>\n",
        "      <td>  2</td>\n",
        "      <td> 23</td>\n",
        "    </tr>\n",
        "  </tbody>\n",
        "</table>\n",
        "</div>"
       ],
       "metadata": {},
       "output_type": "pyout",
       "prompt_number": 386,
       "text": [
        "col_0   0   1\n",
        "ok           \n",
        "0      32   1\n",
        "1       2  23"
       ]
      }
     ],
     "prompt_number": 386
    },
    {
     "cell_type": "markdown",
     "metadata": {},
     "source": [
      "##SVM"
     ]
    },
    {
     "cell_type": "code",
     "collapsed": false,
     "input": [
      "from sklearn import svm\n",
      "from sklearn.cross_validation import KFold\n",
      "from sklearn.grid_search import GridSearchCV\n",
      "\n",
      "#Cross-Validation\n",
      "kf = KFold(len(train_features), n_folds=5, shuffle=True)\n",
      "#GridSearch\n",
      "grid_param = [{'kernel': ['rbf'], 'gamma': [10**i for i in range(-4,0)], 'C': [10**i for i in range(1,4)]}]\n",
      "clf = GridSearchCV(svm.SVC(), grid_param, cv=kf, scoring='accuracy')\n",
      "\n",
      "#FIT\n",
      "clf.fit(train_features, train_cls)\n",
      "#for param, mean, scores in clf.grid_scores_:\n",
      "#    print('\u30d1\u30e9\u30e1\u30fc\u30bf\uff1a', param)\n",
      "#    print('\u5404fold\u306e\u30b9\u30b3\u30a2\uff1a', scores)\n",
      "#    print('\u5168fold\u306e\u5e73\u5747\u30b9\u30b3\u30a2\uff1a', mean)\n",
      "#    print('===')\n",
      "#print(clf.best_estimator_)\n",
      "clf.best_estimator_.fit(train_features, train_cls)\n",
      "\n",
      "####PREDICT\n",
      "list_ = clf.predict(test_features)\n",
      "\n",
      "####\u8a55\u4fa1\n",
      "print(classification_report(test_cls, list_))\n",
      "pandas.crosstab(test_cls, list_)"
     ],
     "language": "python",
     "metadata": {},
     "outputs": [
      {
       "output_type": "stream",
       "stream": "stdout",
       "text": [
        "             precision    recall  f1-score   support\n",
        "\n",
        "        0.0       1.00      1.00      1.00        33\n",
        "        1.0       1.00      1.00      1.00        25\n",
        "\n",
        "avg / total       1.00      1.00      1.00        58\n",
        "\n"
       ]
      },
      {
       "html": [
        "<div style=\"max-height:1000px;max-width:1500px;overflow:auto;\">\n",
        "<table border=\"1\" class=\"dataframe\">\n",
        "  <thead>\n",
        "    <tr style=\"text-align: right;\">\n",
        "      <th>col_0</th>\n",
        "      <th>0.0</th>\n",
        "      <th>1.0</th>\n",
        "    </tr>\n",
        "    <tr>\n",
        "      <th>ok</th>\n",
        "      <th></th>\n",
        "      <th></th>\n",
        "    </tr>\n",
        "  </thead>\n",
        "  <tbody>\n",
        "    <tr>\n",
        "      <th>0</th>\n",
        "      <td> 33</td>\n",
        "      <td>  0</td>\n",
        "    </tr>\n",
        "    <tr>\n",
        "      <th>1</th>\n",
        "      <td>  0</td>\n",
        "      <td> 25</td>\n",
        "    </tr>\n",
        "  </tbody>\n",
        "</table>\n",
        "</div>"
       ],
       "metadata": {},
       "output_type": "pyout",
       "prompt_number": 393,
       "text": [
        "col_0   0   1\n",
        "ok           \n",
        "0      33   0\n",
        "1       0  25"
       ]
      }
     ],
     "prompt_number": 393
    },
    {
     "cell_type": "markdown",
     "metadata": {},
     "source": [
      "##DecisionTree"
     ]
    },
    {
     "cell_type": "code",
     "collapsed": false,
     "input": [
      "from sklearn import tree\n",
      "from sklearn.externals.six import StringIO\n",
      "import pydot\n",
      "\n",
      "####FIT\n",
      "dt = tree.DecisionTreeClassifier()\n",
      "dt = dt.fit(train_features, train_cls)\n",
      "\n",
      "print(\"\u6c7a\u5b9a\u4fc2\u6570\", dt.score(train_features, train_cls))\n",
      "\n",
      "##\u63cf\u753b(python2\u7cfbonly)\n",
      "#dot_data = StringIO()\n",
      "#tree.export_graphviz(dt, out_file = dot_data)\n",
      "#graph = pydot.graph_from_dot_data(dot_data.getvalue())\n",
      "#pydot.graph_from_dot_data"
     ],
     "language": "python",
     "metadata": {},
     "outputs": [
      {
       "output_type": "stream",
       "stream": "stdout",
       "text": [
        "\u6c7a\u5b9a\u4fc2\u6570 1.0\n"
       ]
      }
     ],
     "prompt_number": 375
    },
    {
     "cell_type": "code",
     "collapsed": false,
     "input": [
      "!ls"
     ],
     "language": "python",
     "metadata": {},
     "outputs": [
      {
       "output_type": "stream",
       "stream": "stdout",
       "text": [
        "match.ipynb match.py    \u001b[34mtext\u001b[m\u001b[m\r\n"
       ]
      }
     ],
     "prompt_number": 394
    },
    {
     "cell_type": "code",
     "collapsed": false,
     "input": [],
     "language": "python",
     "metadata": {},
     "outputs": []
    }
   ],
   "metadata": {}
  }
 ]
}